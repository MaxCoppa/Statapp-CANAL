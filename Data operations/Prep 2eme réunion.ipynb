{
 "cells": [
  {
   "cell_type": "code",
   "execution_count": null,
   "metadata": {},
   "outputs": [],
   "source": [
    "import matplotlib.pyplot as plt # pour graphiques"
   ]
  },
  {
   "cell_type": "code",
   "execution_count": null,
   "metadata": {},
   "outputs": [],
   "source": [
    "# Mise en forme des données\n",
    "\n",
    "import pandas as pd\n",
    "import numpy as np\n",
    "\n",
    "\n",
    "def file_to_dataframe(filenames,st): \n",
    "    \"\"\"\n",
    "    Initialize the DataFrame from a filenames \n",
    "    Parameters: \n",
    "    -----------\n",
    "    filenames: str, the name of the file\n",
    "    st: str, helps to delimites the columns of the datas because \"Correspondances_promo\n",
    "    are delimited with ';' while the other are delimited with ','.\n",
    "    \"\"\"\n",
    "    datas = pd.read_csv(filenames,delimiter=st)\n",
    "    return datas\n",
    "\n",
    "\n",
    "def clean_dates(df):\n",
    "    \"\"\"\n",
    "    Clean the dates of the files with dates such as \"2022-11-14T00:00:00Z\" and change it into \"2022-11-14\"\n",
    "    -----------\n",
    "    df: dataframe, the dataframe that we use\n",
    "    \n",
    "    \"\"\"\n",
    "    for colu in df.columns :\n",
    "        if df[colu].dtype == object: \n",
    "            df[colu] = df[colu].str.replace('T00:00:00Z', '')\n",
    "    return(df)\n",
    "\n",
    "def change_date(st):\n",
    "    \"\"\"\n",
    "    Change a date as \"28/04/2003 00:00:00.000\" into one more precise \"2003-04-28\"\n",
    "    -----------\n",
    "    st: str, the date to change\n",
    "\n",
    "    \"\"\" \n",
    "    if type(st) != str or len(st) < 10 : \n",
    "        return(st)\n",
    "    else :\n",
    "        date = st[:10].split(\"/\")\n",
    "        return(date[2]+\"-\"+date[1]+\"-\"+date[0])\n",
    "    \n",
    "def change_dates_all(df,cols):\n",
    "    \"\"\"\n",
    "    Change the dates of some columns of a dataFrame using the function change_date\n",
    "    -----------\n",
    "    df: dataframe, the DataFrame on which we are working\n",
    "    cols: str list, a list of columns name that we want to change\n",
    "\n",
    "    \"\"\" \n",
    "    for colu in cols : \n",
    "        df[colu] = df[colu].apply(change_date)\n",
    "    return df\n",
    "\n",
    "def save_to_csv_file(df,filename):\n",
    "    \"\"\"\n",
    "    Save a dataframe on a .csv file at filename\n",
    "    ----------\n",
    "    df: dataframe, the DataFrame that you want to save\n",
    "    filename: str, the place where you want to save your data frame\n",
    "    \"\"\"\n",
    "    df.to_csv(filename, index=False)\n",
    "    return True"
   ]
  },
  {
   "cell_type": "code",
   "execution_count": null,
   "metadata": {},
   "outputs": [],
   "source": [
    "df = file_to_dataframe(\"/Users/antoine/Documents/ENSAE 2A/Code perso/everything/Statapp perso/Ressources/Correspondances_Promos.csv\",\";\")\n",
    "df_Correspondances_Promos = change_dates_all(df,['DEBVAL', 'FINVAL', 'DEBABOMIN', 'DEBABOMAX'])\n",
    "df_Correspondances_Promos.head()"
   ]
  },
  {
   "cell_type": "code",
   "execution_count": null,
   "metadata": {},
   "outputs": [],
   "source": [
    "df = file_to_dataframe(\"/Users/antoine/Documents/ENSAE 2A/Code perso/everything/Statapp perso/Ressources/Données_Promos_2021.csv\",\",\")\n",
    "df_Données_Promo_2021 = clean_dates(df)\n",
    "df_Données_Promo_2021.head()"
   ]
  },
  {
   "cell_type": "code",
   "execution_count": null,
   "metadata": {},
   "outputs": [],
   "source": [
    "df = file_to_dataframe(\"/Users/antoine/Documents/ENSAE 2A/Code perso/everything/Statapp perso/Ressources/Données_Reabos_2021.csv\",\",\")\n",
    "df_Données_Reabos_2021 = clean_dates(df)\n",
    "df_Données_Reabos_2021.head()"
   ]
  },
  {
   "cell_type": "code",
   "execution_count": null,
   "metadata": {},
   "outputs": [],
   "source": [
    "def join_dataFrames(df1,df2,cond):\n",
    "    \"\"\"\n",
    "    Join two DataFrames on the conditions cond\n",
    "    Parameters: \n",
    "    -----------\n",
    "    df1,df2: DataFrames\n",
    "    cond: str list of the colomuns on which we want to join \n",
    "    \"\"\"\n",
    "    return pd.merge(df1, df2, on=cond, how='inner')\n"
   ]
  },
  {
   "cell_type": "code",
   "execution_count": null,
   "metadata": {},
   "outputs": [],
   "source": [
    "def calculate_nb_promos(df):\n",
    "    return(df.groupby('CPROMO')['ID_ABONNE'].count())"
   ]
  },
  {
   "cell_type": "code",
   "execution_count": null,
   "metadata": {},
   "outputs": [],
   "source": [
    "promo_reabo = join_dataFrames(df_Données_Promo_2021,df_Données_Reabos_2021,['ID_ABONNE','DATE_ACTE_REEL'])\n",
    "promo_reabo.head()"
   ]
  },
  {
   "cell_type": "code",
   "execution_count": null,
   "metadata": {},
   "outputs": [],
   "source": [
    "df_nb_promos = calculate_nb_promos(promo_reabo)\n",
    "print((df_nb_promos).sort_values(ascending=False))"
   ]
  },
  {
   "cell_type": "code",
   "execution_count": null,
   "metadata": {},
   "outputs": [],
   "source": [
    "print(df_Données_Promo_2021.shape)\n",
    "print(df_Données_Reabos_2021.shape)\n",
    "print(promo_reabo.shape)"
   ]
  },
  {
   "cell_type": "code",
   "execution_count": null,
   "metadata": {},
   "outputs": [],
   "source": [
    "# Next : Objectif : comprendre les comportements de réabonnement des abonnés \n",
    "# en fonction des différents types de promotions (Semaine généreuse vs autres ODD vs hors promotion)"
   ]
  },
  {
   "cell_type": "code",
   "execution_count": null,
   "metadata": {},
   "outputs": [],
   "source": [
    "# 1) Identifier différents types d'ODD :\n",
    "# => semaine généreuse (EV+/TC) => SG\n",
    "# => ODD 7 jours autre que SG\n",
    "# => ODD 15 jours EV+\n",
    "# => ODD 15 jours TC\n",
    "# => ODD 21 jours EV+\n",
    "# => ODD 21 jours TC\n",
    "# => Autres types d'ODD ?"
   ]
  },
  {
   "cell_type": "code",
   "execution_count": null,
   "metadata": {},
   "outputs": [],
   "source": [
    "df_join = join_dataFrames(promo_reabo, df_Correspondances_Promos, ['CPROMO']) # Join ultime\n"
   ]
  },
  {
   "cell_type": "code",
   "execution_count": null,
   "metadata": {},
   "outputs": [],
   "source": [
    "df_join.head()\n",
    "df_join.shape"
   ]
  },
  {
   "cell_type": "code",
   "execution_count": null,
   "metadata": {},
   "outputs": [],
   "source": [
    "odd = df_join[df_join['TYPE_PROMO'] == 'ODD'] # Que les ODD\n",
    "nodd = df_join[df_join['TYPE_PROMO'] != 'ODD'] # Que les non ODD"
   ]
  },
  {
   "cell_type": "code",
   "execution_count": null,
   "metadata": {},
   "outputs": [],
   "source": [
    "q1 = odd.groupby(['CPROMO', 'AVANTAGE'])['ID_ABONNE'].count() # Code promo les + utilisés\n",
    "q1 = q1.sort_values(ascending=False)\n",
    "q1"
   ]
  },
  {
   "cell_type": "code",
   "execution_count": null,
   "metadata": {},
   "outputs": [],
   "source": [
    "q1b = odd.groupby(['AVANTAGE'])['ID_ABONNE'].count() # Avantages les + utilisés\n",
    "q1b = q1b.sort_values(ascending=False)\n",
    "q1b"
   ]
  },
  {
   "cell_type": "code",
   "execution_count": null,
   "metadata": {},
   "outputs": [],
   "source": [
    "semgen = odd.groupby(['AVANTAGE', 'SG'])['ID_ABONNE'].count() # Par avantage \n",
    "semgen = semgen.sort_values(ascending=False)\n",
    "semgen"
   ]
  },
  {
   "cell_type": "code",
   "execution_count": null,
   "metadata": {},
   "outputs": [],
   "source": [
    "oddnsg = odd[odd['SG'].astype(str) != 'Semaine généreuse'] # ODD non SG"
   ]
  },
  {
   "cell_type": "code",
   "execution_count": null,
   "metadata": {},
   "outputs": [],
   "source": [
    "analyse = oddnsg.groupby(['AVANTAGE'])['ID_ABONNE'].count() # ODD non SG classées par utilisation\n",
    "analyse = analyse.sort_values(ascending=False)\n",
    "analyse "
   ]
  },
  {
   "cell_type": "code",
   "execution_count": null,
   "metadata": {},
   "outputs": [],
   "source": [
    "odd7jnsg = oddnsg[oddnsg['AVANTAGE'].isin(['EVPDD 7 jour(s)', 'EVDD 7 jour(s)'])] # ODD de 7j sans semaine généreuse\n",
    "odd7jnsg"
   ]
  },
  {
   "cell_type": "code",
   "execution_count": null,
   "metadata": {},
   "outputs": [],
   "source": [
    "# 2) Répartition des réabonnements par type de promotions et hors promotion par année/mois :\n",
    "# => total pays\n",
    "# => par region / secteur\n",
    "# => canal de distribution / enseigne\n",
    "# => moyens de paiement\n",
    "# => formule prec"
   ]
  },
  {
   "cell_type": "code",
   "execution_count": null,
   "metadata": {},
   "outputs": [],
   "source": [
    "# 3) Répartition des réabonnements par délai de réabonnement (depuis fin de l'abonnement précédent) \n",
    "#    par type de promotions et hors promotion."
   ]
  },
  {
   "cell_type": "code",
   "execution_count": null,
   "metadata": {},
   "outputs": [],
   "source": [
    "# Création d'une variable qui calcule le délai de réabonnement \n",
    "\n",
    "# On met les dates au bon format \n",
    "df_Données_Reabos_2021['DATE_ACTE_REEL'] = pd.to_datetime(df_Données_Reabos_2021['DATE_ACTE_REEL'])\n",
    "df_Données_Reabos_2021['DATE_FIN_ABO_PREC'] = pd.to_datetime(df_Données_Reabos_2021['DATE_FIN_ABO_PREC'])"
   ]
  },
  {
   "cell_type": "code",
   "execution_count": 47,
   "metadata": {},
   "outputs": [],
   "source": [
    "df_Données_Reabos_2021['delai_reabo'] = (df_Données_Reabos_2021['DATE_ACTE_REEL'] - df_Données_Reabos_2021['DATE_FIN_ABO_PREC']).dt.days\n",
    "\n",
    "# Delai_reabo < 0 : le client a pris son nouvel abonnement avant expiration "
   ]
  },
  {
   "cell_type": "code",
   "execution_count": 48,
   "metadata": {},
   "outputs": [],
   "source": [
    "df_Données_Promo_2021['DATE_ACTE_REEL'] = pd.to_datetime(df_Données_Promo_2021['DATE_ACTE_REEL']) # Obligé pour fusionner"
   ]
  },
  {
   "cell_type": "code",
   "execution_count": null,
   "metadata": {},
   "outputs": [],
   "source": [
    "promo_reabo2 = join_dataFrames(df_Données_Promo_2021,df_Données_Reabos_2021,['ID_ABONNE','DATE_ACTE_REEL'])\n",
    "promo_reabo2.head() # Nouvelle table avec la variable du délai de réabonnement"
   ]
  },
  {
   "cell_type": "code",
   "execution_count": 56,
   "metadata": {},
   "outputs": [],
   "source": [
    "df_join2 = join_dataFrames(promo_reabo2, df_Correspondances_Promos, ['CPROMO'])"
   ]
  },
  {
   "cell_type": "code",
   "execution_count": 57,
   "metadata": {},
   "outputs": [
    {
     "data": {
      "text/plain": [
       "CPROMO    AVANTAGE         \n",
       "160412B2  EVPDD 7 jour(s)      33.978723\n",
       "160412B3  EVPDD 7 jour(s)      32.533568\n",
       "160412B6  EVPDD 7 jour(s)      20.283854\n",
       "160412C2  TCAODD 7 jour(s)     38.500000\n",
       "160412C3  TCAODD 7 jour(s)     21.050734\n",
       "                                 ...    \n",
       "SGTCA01   TCAODD 7 jour(s)     -3.071011\n",
       "SGTCA03   TCAODD 21 jour(s)   -20.150659\n",
       "SGTCA06   TCAODD 42 jour(s)   -26.842105\n",
       "SGTCA12   TCAODD 84 jour(s)   -19.438095\n",
       "SGTCAAN   TCAODD 1 jour(s)     33.800000\n",
       "Name: delai_reabo, Length: 133, dtype: float64"
      ]
     },
     "execution_count": 57,
     "metadata": {},
     "output_type": "execute_result"
    }
   ],
   "source": [
    "# On s'interesse dans un premier temps avec promo\n",
    "moyenne_par_CPROMO = df_join2.groupby(['CPROMO','AVANTAGE'])['delai_reabo'].mean()\n",
    "moyenne_par_CPROMO"
   ]
  },
  {
   "cell_type": "code",
   "execution_count": 63,
   "metadata": {},
   "outputs": [],
   "source": [
    "# Puis pour ceux sans promo \n",
    "# j'arrive pas a anti join les deux tableaux reabo et promo_reabo pour n'avoir plus que ceux qui n'ont pas \n",
    "# bénéficié d'une promo en se réabonnant"
   ]
  },
  {
   "cell_type": "code",
   "execution_count": null,
   "metadata": {},
   "outputs": [],
   "source": [
    "# 4) Répartition des réabonnements par taux de consommation (12 mois glissants) \n",
    "#    par type de promotions et hors promotion."
   ]
  },
  {
   "cell_type": "code",
   "execution_count": null,
   "metadata": {},
   "outputs": [],
   "source": [
    "# C'est quoi taux de consommation ?"
   ]
  }
 ],
 "metadata": {
  "kernelspec": {
   "display_name": "Python 3",
   "language": "python",
   "name": "python3"
  },
  "language_info": {
   "codemirror_mode": {
    "name": "ipython",
    "version": 3
   },
   "file_extension": ".py",
   "mimetype": "text/x-python",
   "name": "python",
   "nbconvert_exporter": "python",
   "pygments_lexer": "ipython3",
   "version": "3.9.6"
  },
  "orig_nbformat": 4
 },
 "nbformat": 4,
 "nbformat_minor": 2
}
