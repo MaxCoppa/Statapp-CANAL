{
 "cells": [
  {
   "cell_type": "code",
   "execution_count": 2,
   "metadata": {},
   "outputs": [],
   "source": [
    "from Tool_Functions.cleaning_data import *\n",
    "from Tool_Functions.comportment_reabo import * \n",
    "from Tool_Functions.join_data import * "
   ]
  },
  {
   "cell_type": "code",
   "execution_count": 3,
   "metadata": {},
   "outputs": [],
   "source": [
    "path_antoine = \"/Users/antoine/Documents/ENSAE2A/Codeperso/everything/Statappperso/Ressources/\""
   ]
  },
  {
   "attachments": {},
   "cell_type": "markdown",
   "metadata": {},
   "source": [
    "Nouveaux indicateurs : \n",
    "- Mois du réabonnement \n",
    "- Delai de réabonnement moyen pour cette promo comparé au délai de réabonnement moyen pour toutes les promos\n",
    "- Trouver aussi un moyen de quantifier le poids de l’abonnement par rapport aux habitudes de fidélité d’un client : s’il s’abonne alors qu’il s’abonne jamais, la promo aura un poids plus important"
   ]
  },
  {
   "attachments": {},
   "cell_type": "markdown",
   "metadata": {},
   "source": [
    "•⁠  ⁠transformer la fidélité en un score et essayer de le croiser avec les types de promo\n",
    "•⁠  ⁠⁠comparer les délais de réabonnements à ce qu’il se fait hors promotion \n",
    "•⁠  ⁠⁠on peut dans un premier temps se concentrer sur un seul type d’ODD (ex 15j TC)"
   ]
  },
  {
   "cell_type": "code",
   "execution_count": 1,
   "metadata": {},
   "outputs": [],
   "source": [
    "def calculer_score_fidélité(abonnements):\n",
    "    \"\"\"\n",
    "    Calcule le score de fidélité en fonction des abonnements effectués.\n",
    "    \n",
    "    Args:\n",
    "    abonnements : list[int] : Liste des nombres d'abonnements effectués au cours des 12 mois glissants.\n",
    "\n",
    "    Returns:\n",
    "    int : Score de fidélité.\n",
    "    \"\"\"\n",
    "    # Si l'abonné ne s'est jamais abonné, retourner un score minimal\n",
    "    if not abonnements:\n",
    "        return 0\n",
    "    \n",
    "    # Calculer le score comme la somme des abonnements sur la période\n",
    "    score = sum(abonnements)\n",
    "    \n",
    "    # Nombre total d'abonnements sur la période\n",
    "    nombre_abonnements = len(abonnements)\n",
    "    \n",
    "    # Score maximal possible est lorsque l'abonné s'est abonné chaque mois\n",
    "    score_maximal = 13 * nombre_abonnements\n",
    "    \n",
    "    # Normaliser le score entre 0 et 100\n",
    "    score_normalisé = (score / score_maximal) * 100\n",
    "    \n",
    "    # Ponderation du score en fonction de la tendance de la fidélité récente\n",
    "    poids_fidélité_récente = 0.6\n",
    "    dernier_abonnement = abonnements[-1]\n",
    "    \n",
    "    # Score ajusté en fonction du nombre de chiffres dans la liste des abonnements\n",
    "    score_ajusté = score_normalisé * (1 + 0.1 * (nombre_abonnements - 1))\n",
    "    \n",
    "    # Score final\n",
    "    score_final = (score_ajusté * poids_fidélité_récente) + (dernier_abonnement * (1 - poids_fidélité_récente))\n",
    "    \n",
    "    return round(score_final)"
   ]
  },
  {
   "cell_type": "code",
   "execution_count": 9,
   "metadata": {},
   "outputs": [],
   "source": [
    "def colonne_score(data_path):\n",
    "    df = file_to_dataframe(data_path + \"fusion_table_v3.csv\")\n",
    "    df['NOMBRE_ABONNEMENTS'] = df['NOMBRE_ABONNEMENTS'].apply(clean_nombres_abonnements)\n",
    "    df['SCORE_FIDELITE'] = df['NOMBRE_ABONNEMENTS'].apply(calculer_score_fidélité)\n",
    "    save_to_csv_file(df, path_antoine + 'new_fusion_table_score.csv')\n",
    "    return True"
   ]
  },
  {
   "cell_type": "code",
   "execution_count": 10,
   "metadata": {},
   "outputs": [
    {
     "data": {
      "text/plain": [
       "True"
      ]
     },
     "execution_count": 10,
     "metadata": {},
     "output_type": "execute_result"
    }
   ],
   "source": [
    "colonne_score(path_antoine)"
   ]
  }
 ],
 "metadata": {
  "kernelspec": {
   "display_name": "Python 3",
   "language": "python",
   "name": "python3"
  },
  "language_info": {
   "codemirror_mode": {
    "name": "ipython",
    "version": 3
   },
   "file_extension": ".py",
   "mimetype": "text/x-python",
   "name": "python",
   "nbconvert_exporter": "python",
   "pygments_lexer": "ipython3",
   "version": "3.9.6"
  },
  "orig_nbformat": 4
 },
 "nbformat": 4,
 "nbformat_minor": 2
}
