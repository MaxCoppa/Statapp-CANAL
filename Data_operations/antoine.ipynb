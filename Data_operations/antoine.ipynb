{
 "cells": [
  {
   "cell_type": "code",
   "execution_count": 4,
   "metadata": {},
   "outputs": [],
   "source": [
    "from Tool_Functions.cleaning_data import *\n",
    "from Tool_Functions.comportment_reabo import * \n",
    "from Tool_Functions.join_data import * "
   ]
  },
  {
   "cell_type": "code",
   "execution_count": 5,
   "metadata": {},
   "outputs": [],
   "source": [
    "path_antoine = \"/Users/antoine/Documents/ENSAE2A/Codeperso/everything/Statappperso/Ressources/\"\n",
    "path_results_antoine = \"/Users/antoine/Documents/ENSAE2A/Codeperso/everything/Statappperso/Ressources/Results/\""
   ]
  },
  {
   "attachments": {},
   "cell_type": "markdown",
   "metadata": {},
   "source": [
    "Nouveaux indicateurs : \n",
    "- Mois du réabonnement \n",
    "- Delai de réabonnement moyen pour cette promo comparé au délai de réabonnement moyen pour toutes les promos\n",
    "- Trouver aussi un moyen de quantifier le poids de l’abonnement par rapport aux habitudes de fidélité d’un client : s’il s’abonne alors qu’il s’abonne jamais, la promo aura un poids plus important"
   ]
  },
  {
   "cell_type": "code",
   "execution_count": 110,
   "metadata": {},
   "outputs": [],
   "source": [
    "def enlever_abos(data_path, data_path_results):\n",
    "    df = file_to_dataframe(data_path + \"df_Donnees_Reabos_odd.csv\")\n",
    "    df['NB_APPARITIONS'] = df.groupby('ID_ABONNE')['ID_ABONNE'].transform('count')\n",
    "    df_new = df[(df['NB_APPARITIONS'] < 34) & (df['NB_APPARITIONS'] > 2)]\n",
    "    save_to_csv_file(df_new, data_path_results + 'df_Donnees_Reabos_odd_new.csv')\n",
    "     \n",
    "    return True"
   ]
  },
  {
   "cell_type": "code",
   "execution_count": 165,
   "metadata": {},
   "outputs": [],
   "source": [
    "def ajouter_differences(df):\n",
    "    \n",
    "    promo_types = [col for col in df.columns if 'MEAN_TIME' in col and col != 'MOY_DELAI']\n",
    "    \n",
    "    for promo in promo_types:\n",
    "        new_col_name = promo + '_DIFF'\n",
    "        df[new_col_name] = df[promo] - df['MOY_DELAI']\n",
    "\n",
    "    return df"
   ]
  },
  {
   "cell_type": "code",
   "execution_count": 174,
   "metadata": {},
   "outputs": [],
   "source": [
    "def create_new_data_set_n_month(data_path, data_path_results):\n",
    "    \"\"\"\n",
    "    Creates a new dataset 'new_data_set' from 'df_Données_Reabos_odd' dataframe where the columns are the \n",
    "    TYPE_PROMON\n",
    "    \"\"\"\n",
    "\n",
    "    # Load 'df_Données_Reabos_odd' dataframe\n",
    "    df = file_to_dataframe(data_path + \"df_Donnees_Reabos_odd_new.csv\")\n",
    "    df['DATE_ACTE_REEL'] = pd.to_datetime(df['DATE_ACTE_REEL'])\n",
    "    df['MONTH'] = df['DATE_ACTE_REEL'].dt.month\n",
    "\n",
    "    # Perform statistical analysis on 'df_Données_Reabos_odd' dataframe\n",
    "    df2 = count_abo_conditions(df, ['ID_ABONNE', 'MONTH'], 'DATE_ACTE_REEL')\n",
    "\n",
    "    # Create a pivot table from 'df' dataframe we exchange the lines and columns\n",
    "    new_data_set = df2.pivot_table(index='ID_ABONNE', columns='MONTH', values='NB_DATE_ACTE_REEL')\n",
    "\n",
    "    # Reset index of the pivot table\n",
    "    new_data_set = new_data_set.reset_index()\n",
    "\n",
    "    # Replace NaN values with 0\n",
    "    new_data_set.fillna(0, inplace=True)\n",
    "\n",
    "    # Convert floating-point values to integers\n",
    "    new_data_set = new_data_set.astype(int)\n",
    "\n",
    "    # Save 'new_data_set' dataframe to a CSV file\n",
    "    save_to_csv_file(new_data_set, data_path_results + \"df_n_months_ODD.csv\")\n",
    "\n",
    "    return True"
   ]
  },
  {
   "cell_type": "code",
   "execution_count": 175,
   "metadata": {},
   "outputs": [
    {
     "data": {
      "text/plain": [
       "True"
      ]
     },
     "execution_count": 175,
     "metadata": {},
     "output_type": "execute_result"
    }
   ],
   "source": [
    "create_new_data_set_n_month(path_antoine, path_antoine)"
   ]
  },
  {
   "cell_type": "code",
   "execution_count": 178,
   "metadata": {},
   "outputs": [],
   "source": [
    "def create_new_data_set_n_month_pourc(data_path, data_path_results):\n",
    "    \"\"\"\n",
    "    Creates a new dataset 'new_data_set' from 'df_Données_Reabos_odd' dataframe where the columns are the \n",
    "    TYPE_PROMON\n",
    "    \"\"\"\n",
    "\n",
    "    # Load 'df_Données_Reabos_odd' dataframe\n",
    "    df = file_to_dataframe(data_path + \"df_Donnees_Reabos_odd_new.csv\")\n",
    "    df['DATE_ACTE_REEL'] = pd.to_datetime(df['DATE_ACTE_REEL'])\n",
    "    df['MONTH'] = df['DATE_ACTE_REEL'].dt.month\n",
    "\n",
    "    # Perform statistical analysis on 'df_Données_Reabos_odd' dataframe\n",
    "    df2 = count_abo_conditions(df, ['ID_ABONNE', 'MONTH'], 'DATE_ACTE_REEL')\n",
    "\n",
    "    # Create a pivot table from 'df' dataframe we exchange the lines and columns\n",
    "    new_data_set = df2.pivot_table(index='ID_ABONNE', columns='MONTH', values='NB_DATE_ACTE_REEL')\n",
    "\n",
    "    new_data_set_pourc = new_data_set.apply(lambda x: (x / x.sum()) * 100, axis=1)\n",
    "\n",
    "    # Reset index of the pivot table\n",
    "    new_data_set_pourc = new_data_set_pourc.reset_index()\n",
    "\n",
    "    # Replace NaN values with 0\n",
    "    new_data_set_pourc.fillna(0, inplace=True)\n",
    "\n",
    "    # Convert floating-point values to integers\n",
    "    new_data_set_pourc = new_data_set_pourc.astype(int)\n",
    "\n",
    "    # Save 'new_data_set' dataframe to a CSV file\n",
    "    save_to_csv_file(new_data_set_pourc, data_path + \"df_n_months_ODD_%.csv\")\n",
    "\n",
    "    return True"
   ]
  },
  {
   "cell_type": "code",
   "execution_count": 179,
   "metadata": {},
   "outputs": [
    {
     "data": {
      "text/plain": [
       "True"
      ]
     },
     "execution_count": 179,
     "metadata": {},
     "output_type": "execute_result"
    }
   ],
   "source": [
    "create_new_data_set_n_month_pourc(path_antoine, path_antoine)"
   ]
  },
  {
   "cell_type": "code",
   "execution_count": 180,
   "metadata": {},
   "outputs": [],
   "source": [
    "def create_new_data_set_n_fidelite(data_path, data_path_results):\n",
    "    \"\"\"\n",
    "    Creates a new dataset 'new_data_set' from 'df_Données_Reabos_odd' dataframe where the columns are the \n",
    "    TYPE_PROMON\n",
    "    \"\"\"\n",
    "\n",
    "    # Load 'df_Données_Reabos_odd' dataframe\n",
    "    df = file_to_dataframe(data_path + \"df_Donnees_Reabos_odd_new.csv\")\n",
    "    df['DATE_ACTE_REEL'] = pd.to_datetime(df['DATE_ACTE_REEL'])\n",
    "    df['MONTH'] = df['DATE_ACTE_REEL'].dt.month\n",
    "\n",
    "    # Perform statistical analysis on 'df_Données_Reabos_odd' dataframe\n",
    "    df2 = count_abo_conditions(df, ['ID_ABONNE', 'STATUT_FIN_M_MOINS_1'], 'DATE_ACTE_REEL')\n",
    "\n",
    "    # Create a pivot table from 'df' dataframe we exchange the lines and columns\n",
    "    new_data_set = df2.pivot_table(index='ID_ABONNE', columns='STATUT_FIN_M_MOINS_1', values='NB_DATE_ACTE_REEL')\n",
    "\n",
    "    # Reset index of the pivot table\n",
    "    new_data_set = new_data_set.reset_index()\n",
    "\n",
    "    # Replace NaN values with 0\n",
    "    new_data_set.fillna(0, inplace=True)\n",
    "\n",
    "    # Convert floating-point values to integers\n",
    "    new_data_set = new_data_set.astype(int)\n",
    "\n",
    "    # Save 'new_data_set' dataframe to a CSV file\n",
    "    save_to_csv_file(new_data_set, data_path_results + \"df_n_fidélité_ODD.csv\")\n",
    "\n",
    "    return True"
   ]
  },
  {
   "cell_type": "code",
   "execution_count": 181,
   "metadata": {},
   "outputs": [
    {
     "data": {
      "text/plain": [
       "True"
      ]
     },
     "execution_count": 181,
     "metadata": {},
     "output_type": "execute_result"
    }
   ],
   "source": [
    "create_new_data_set_n_fidelite(path_antoine, path_antoine)"
   ]
  },
  {
   "cell_type": "code",
   "execution_count": null,
   "metadata": {},
   "outputs": [],
   "source": [
    "# Combien de fois ils se sont abonnés dans l'année"
   ]
  },
  {
   "cell_type": "code",
   "execution_count": null,
   "metadata": {},
   "outputs": [],
   "source": [
    "def create_new_data_set_n_abo(data_path, data_path_results):\n",
    "    \"\"\"\n",
    "    Creates a new dataset 'new_data_set' from 'df_Données_Reabos_odd' dataframe where the columns are the \n",
    "    TYPE_PROMON\n",
    "    \"\"\"\n",
    "\n",
    "    # Load 'df_Données_Reabos_odd' dataframe\n",
    "    df = file_to_dataframe(data_path + \"df_Donnees_Reabos_odd_new.csv\")\n",
    "    df['DATE_ACTE_REEL'] = pd.to_datetime(df['DATE_ACTE_REEL'])\n",
    "    df['MONTH'] = df['DATE_ACTE_REEL'].dt.month\n",
    "\n",
    "    # Perform statistical analysis on 'df_Données_Reabos_odd' dataframe\n",
    "    df2 = count_abo_conditions(df, ['ID_ABONNE', 'STATUT_FIN_M_MOINS_1'], 'DATE_ACTE_REEL')\n",
    "\n",
    "    # Create a pivot table from 'df' dataframe we exchange the lines and columns\n",
    "    new_data_set = df2.pivot_table(index='ID_ABONNE', columns='STATUT_FIN_M_MOINS_1', values='NB_DATE_ACTE_REEL')\n",
    "\n",
    "    # Reset index of the pivot table\n",
    "    new_data_set = new_data_set.reset_index()\n",
    "\n",
    "    # Replace NaN values with 0\n",
    "    new_data_set.fillna(0, inplace=True)\n",
    "\n",
    "    # Convert floating-point values to integers\n",
    "    new_data_set = new_data_set.astype(int)\n",
    "\n",
    "    # Save 'new_data_set' dataframe to a CSV file\n",
    "    save_to_csv_file(new_data_set, data_path_results + \"df_n_fidélité_ODD.csv\")\n",
    "\n",
    "    return True"
   ]
  },
  {
   "cell_type": "code",
   "execution_count": 6,
   "metadata": {},
   "outputs": [],
   "source": [
    "df = file_to_dataframe(path_antoine + \"df_Donnees_Reabos_odd_new.csv\")"
   ]
  }
 ],
 "metadata": {
  "kernelspec": {
   "display_name": "Python 3",
   "language": "python",
   "name": "python3"
  },
  "language_info": {
   "codemirror_mode": {
    "name": "ipython",
    "version": 3
   },
   "file_extension": ".py",
   "mimetype": "text/x-python",
   "name": "python",
   "nbconvert_exporter": "python",
   "pygments_lexer": "ipython3",
   "version": "3.9.6"
  },
  "orig_nbformat": 4
 },
 "nbformat": 4,
 "nbformat_minor": 2
}
