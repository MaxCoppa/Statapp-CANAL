{
 "cells": [
  {
   "cell_type": "code",
   "execution_count": 1,
   "metadata": {},
   "outputs": [],
   "source": [
    "\n",
    "from Tool_Functions.cleaning_data import *\n",
    "from Tool_Functions.comportment_reabo import * \n",
    "from Tool_Functions.join_data import * "
   ]
  },
  {
   "cell_type": "code",
   "execution_count": 31,
   "metadata": {},
   "outputs": [],
   "source": [
    "path_antoine = \"/Users/antoine/Documents/ENSAE2A/Codeperso/everything/Statappperso/Ressources/\"\n",
    "path_results_antoine = \"/Users/antoine/Documents/ENSAE2A/Codeperso/everything/Statappperso/Ressources/Results/\""
   ]
  },
  {
   "cell_type": "code",
   "execution_count": 29,
   "metadata": {},
   "outputs": [],
   "source": [
    "def create_new_data_set(data_path, data_path_results):\n",
    "    \"\"\"\n",
    "    Creates a new dataset 'new_data_set' from 'df_Données_Reabos_odd' dataframe where the columns are the \n",
    "    TYPE_PROMON\n",
    "    \"\"\"\n",
    "\n",
    "    # Load 'df_Données_Reabos_odd' dataframe\n",
    "    df_Données_Reabos_odd = file_to_dataframe(data_path + \"df_Donnees_Reabos_odd.csv\")\n",
    "\n",
    "    # Create df_n_reabos_ODD\n",
    "    df_n_reabos_ODD = count_abo_conditions(df_Données_Reabos_odd, ['ID_ABONNE', 'TYPE_PROMON'], 'DATE_ACTE_REEL')\n",
    "    df_n_reabos_ODD = df_n_reabos_ODD.pivot_table(index='ID_ABONNE', columns='TYPE_PROMON', values='NB_DATE_ACTE_REEL')\n",
    "    df_n_reabos_ODD = df_n_reabos_ODD.reset_index()\n",
    "    df_n_reabos_ODD.fillna(0, inplace=True)\n",
    "    df_n_reabos_ODD = df_n_reabos_ODD.astype(int)\n",
    "    new_column_names = {col: col + '_n_REABOS' if col != 'ID_ABONNE' else col for col in df_n_reabos_ODD.columns}\n",
    "    df_n_reabos_ODD = df_n_reabos_ODD.rename(columns=new_column_names)\n",
    "\n",
    "\n",
    "    # Create df_n_reabos_mean_time_ODD\n",
    "    df_n_reabos_mean_time_ODD = mean_time_reabo(df_Données_Reabos_odd, ['ID_ABONNE','TYPE_PROMON'], 'DELAI_REABO')\n",
    "    df_n_reabos_mean_time_ODD = df_n_reabos_mean_time_ODD.pivot_table(index='ID_ABONNE', columns='TYPE_PROMON', values='MEAN_DELAI_REABO')\n",
    "    df_n_reabos_mean_time_ODD = df_n_reabos_mean_time_ODD.reset_index()\n",
    "    df_n_reabos_mean_time_ODD.fillna(math.inf, inplace=True)\n",
    "    df_n_reabos_mean_time_ODD = df_n_reabos_mean_time_ODD.astype(float)\n",
    "    new_column_names = {col: col + '_MEAN_TIME' if col != 'ID_ABONNE' else col for col in df_n_reabos_mean_time_ODD.columns}\n",
    "    df_n_reabos_mean_time_ODD = df_n_reabos_mean_time_ODD.rename(columns=new_column_names)\n",
    "\n",
    "    # Join df_n_reabos_mean_time_ODD df_n_reabos_ODD\n",
    "    df = join_dataFrames(df_n_reabos_ODD,df_n_reabos_mean_time_ODD,\"ID_ABONNE\")\n",
    "\n",
    "    # Save 'new_data_set' dataframe to a CSV file\n",
    "    save_to_csv_file(df, data_path_results + \"new_datas.csv\")\n",
    "\n",
    "    return True"
   ]
  },
  {
   "cell_type": "code",
   "execution_count": 30,
   "metadata": {},
   "outputs": [
    {
     "data": {
      "text/plain": [
       "True"
      ]
     },
     "execution_count": 30,
     "metadata": {},
     "output_type": "execute_result"
    }
   ],
   "source": [
    "create_new_data_set(path_antoine, path_antoine)"
   ]
  },
  {
   "attachments": {},
   "cell_type": "markdown",
   "metadata": {},
   "source": [
    "Nouveaux indicateurs : \n",
    "- Mois du réabonnement \n",
    "- Delai de réabonnement moyen pour cette promo comparé au délai de réabonnement moyen pour toutes les promos\n",
    "- Trouver aussi un moyen de quantifier le poids de l’abonnement par rapport aux habitudes de fidélité d’un client : s’il s’abonne alors qu’il s’abonne jamais, la promo aura un poids plus important"
   ]
  },
  {
   "cell_type": "code",
   "execution_count": 82,
   "metadata": {},
   "outputs": [],
   "source": [
    "def ajouter_differences(df):\n",
    "    \n",
    "    promo_types = [col for col in df.columns if 'MEAN_TIME' in col and col != 'MOY_DELAI']\n",
    "    \n",
    "    for promo in promo_types:\n",
    "        new_col_name = promo + '_DIFF'\n",
    "        df[new_col_name] = df[promo] - df['MOY_DELAI']\n",
    "\n",
    "    return df\n",
    "        "
   ]
  },
  {
   "cell_type": "code",
   "execution_count": 83,
   "metadata": {},
   "outputs": [],
   "source": [
    "def create_new_data_set_diff(data_path, data_path_results):\n",
    "\n",
    "    df_Données_Reabos_odd = file_to_dataframe(data_path + \"df_Donnees_Reabos_odd_new.csv\")\n",
    "    df = file_to_dataframe(data_path + \"new_datas_new.csv\")\n",
    "    delai = df_Données_Reabos_odd[['ID_ABONNE', 'MOY_DELAI']]\n",
    "    delai = delai.drop_duplicates(subset='ID_ABONNE', keep='first')\n",
    "    df2 = join_dataFrames(df, delai, 'ID_ABONNE')\n",
    "    df2 = join_dataFrames(df, delai, \"ID_ABONNE\")\n",
    "    ajouter_differences(df2)\n",
    "    \n",
    "    save_to_csv_file(df2, data_path_results + \"new_datas_diff.csv\")\n",
    "\n",
    "    return True"
   ]
  },
  {
   "cell_type": "code",
   "execution_count": 84,
   "metadata": {},
   "outputs": [
    {
     "name": "stdout",
     "output_type": "stream",
     "text": [
      "Nombre de lignes avant la jointure: 777144\n",
      "Nombre de lignes après la jointure: 777144\n",
      "Nombre de lignes après la jointure: 777144\n"
     ]
    },
    {
     "data": {
      "text/plain": [
       "True"
      ]
     },
     "execution_count": 84,
     "metadata": {},
     "output_type": "execute_result"
    }
   ],
   "source": [
    "create_new_data_set_diff(path_antoine,path_antoine)"
   ]
  }
 ],
 "metadata": {
  "kernelspec": {
   "display_name": "Python 3",
   "language": "python",
   "name": "python3"
  },
  "language_info": {
   "codemirror_mode": {
    "name": "ipython",
    "version": 3
   },
   "file_extension": ".py",
   "mimetype": "text/x-python",
   "name": "python",
   "nbconvert_exporter": "python",
   "pygments_lexer": "ipython3",
   "version": "3.9.6"
  },
  "orig_nbformat": 4
 },
 "nbformat": 4,
 "nbformat_minor": 2
}
