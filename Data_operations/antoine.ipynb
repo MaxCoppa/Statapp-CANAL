{
 "cells": [
  {
   "cell_type": "code",
   "execution_count": 1,
   "metadata": {},
   "outputs": [],
   "source": [
    "from Tool_Functions.cleaning_data import *\n",
    "from Tool_Functions.comportment_reabo import * \n",
    "from Tool_Functions.join_data import * "
   ]
  },
  {
   "attachments": {},
   "cell_type": "markdown",
   "metadata": {},
   "source": [
    "Nouveaux indicateurs : \n",
    "- Mois du réabonnement \n",
    "- Delai de réabonnement moyen pour cette promo comparé au délai de réabonnement moyen pour toutes les promos\n",
    "- Trouver aussi un moyen de quantifier le poids de l’abonnement par rapport aux habitudes de fidélité d’un client : s’il s’abonne alors qu’il s’abonne jamais, la promo aura un poids plus important"
   ]
  },
  {
   "attachments": {},
   "cell_type": "markdown",
   "metadata": {},
   "source": [
    "•⁠  ⁠transformer la fidélité en un score et essayer de le croiser avec les types de promo\n",
    "•⁠  ⁠⁠comparer les délais de réabonnements à ce qu’il se fait hors promotion \n",
    "•⁠  ⁠⁠on peut dans un premier temps se concentrer sur un seul type d’ODD (ex 15j TC)"
   ]
  }
 ],
 "metadata": {
  "kernelspec": {
   "display_name": "Python 3",
   "language": "python",
   "name": "python3"
  },
  "language_info": {
   "codemirror_mode": {
    "name": "ipython",
    "version": 3
   },
   "file_extension": ".py",
   "mimetype": "text/x-python",
   "name": "python",
   "nbconvert_exporter": "python",
   "pygments_lexer": "ipython3",
   "version": "3.9.6"
  },
  "orig_nbformat": 4
 },
 "nbformat": 4,
 "nbformat_minor": 2
}
