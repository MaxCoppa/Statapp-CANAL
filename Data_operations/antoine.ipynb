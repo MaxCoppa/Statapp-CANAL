{
 "cells": [
  {
   "cell_type": "code",
   "execution_count": 1,
   "metadata": {},
   "outputs": [],
   "source": [
    "from Tool_Functions.cleaning_data import *\n",
    "from Tool_Functions.comportment_reabo import * \n",
    "from Tool_Functions.join_data import * "
   ]
  },
  {
   "cell_type": "code",
   "execution_count": 2,
   "metadata": {},
   "outputs": [],
   "source": [
    "path_antoine = \"/Users/antoine/Documents/ENSAE2A/Codeperso/everything/Statappperso/Ressources/\"\n",
    "path_results_antoine = \"/Users/antoine/Documents/ENSAE2A/Codeperso/everything/Statappperso/Ressources/Results/\""
   ]
  },
  {
   "cell_type": "code",
   "execution_count": 29,
   "metadata": {},
   "outputs": [],
   "source": [
    "def create_new_data_set(data_path, data_path_results):\n",
    "    \"\"\"\n",
    "    Creates a new dataset 'new_data_set' from 'df_Données_Reabos_odd' dataframe where the columns are the \n",
    "    TYPE_PROMON\n",
    "    \"\"\"\n",
    "\n",
    "    # Load 'df_Données_Reabos_odd' dataframe\n",
    "    df_Données_Reabos_odd = file_to_dataframe(data_path + \"df_Donnees_Reabos_odd.csv\")\n",
    "\n",
    "    # Create df_n_reabos_ODD\n",
    "    df_n_reabos_ODD = count_abo_conditions(df_Données_Reabos_odd, ['ID_ABONNE', 'TYPE_PROMON'], 'DATE_ACTE_REEL')\n",
    "    df_n_reabos_ODD = df_n_reabos_ODD.pivot_table(index='ID_ABONNE', columns='TYPE_PROMON', values='NB_DATE_ACTE_REEL')\n",
    "    df_n_reabos_ODD = df_n_reabos_ODD.reset_index()\n",
    "    df_n_reabos_ODD.fillna(0, inplace=True)\n",
    "    df_n_reabos_ODD = df_n_reabos_ODD.astype(int)\n",
    "    new_column_names = {col: col + '_n_REABOS' if col != 'ID_ABONNE' else col for col in df_n_reabos_ODD.columns}\n",
    "    df_n_reabos_ODD = df_n_reabos_ODD.rename(columns=new_column_names)\n",
    "\n",
    "\n",
    "    # Create df_n_reabos_mean_time_ODD\n",
    "    df_n_reabos_mean_time_ODD = mean_time_reabo(df_Données_Reabos_odd, ['ID_ABONNE','TYPE_PROMON'], 'DELAI_REABO')\n",
    "    df_n_reabos_mean_time_ODD = df_n_reabos_mean_time_ODD.pivot_table(index='ID_ABONNE', columns='TYPE_PROMON', values='MEAN_DELAI_REABO')\n",
    "    df_n_reabos_mean_time_ODD = df_n_reabos_mean_time_ODD.reset_index()\n",
    "    df_n_reabos_mean_time_ODD.fillna(math.inf, inplace=True)\n",
    "    df_n_reabos_mean_time_ODD = df_n_reabos_mean_time_ODD.astype(float)\n",
    "    new_column_names = {col: col + '_MEAN_TIME' if col != 'ID_ABONNE' else col for col in df_n_reabos_mean_time_ODD.columns}\n",
    "    df_n_reabos_mean_time_ODD = df_n_reabos_mean_time_ODD.rename(columns=new_column_names)\n",
    "\n",
    "    # Join df_n_reabos_mean_time_ODD df_n_reabos_ODD\n",
    "    df = join_dataFrames(df_n_reabos_ODD,df_n_reabos_mean_time_ODD,\"ID_ABONNE\")\n",
    "\n",
    "    # Save 'new_data_set' dataframe to a CSV file\n",
    "    save_to_csv_file(df, data_path_results + \"new_datas.csv\")\n",
    "\n",
    "    return True"
   ]
  },
  {
   "attachments": {},
   "cell_type": "markdown",
   "metadata": {},
   "source": [
    "Nouveaux indicateurs : \n",
    "- Mois du réabonnement \n",
    "- Delai de réabonnement moyen pour cette promo comparé au délai de réabonnement moyen pour toutes les promos\n",
    "- Trouver aussi un moyen de quantifier le poids de l’abonnement par rapport aux habitudes de fidélité d’un client : s’il s’abonne alors qu’il s’abonne jamais, la promo aura un poids plus important"
   ]
  },
  {
   "cell_type": "code",
   "execution_count": 13,
   "metadata": {},
   "outputs": [],
   "source": [
    "def create_new_data_set_n_month(data_path, data_path_results):\n",
    "    \"\"\"\n",
    "    Creates a new dataset 'new_data_set' from 'df_Données_Reabos_odd' dataframe where the columns are the \n",
    "    TYPE_PROMON\n",
    "    \"\"\"\n",
    "\n",
    "    # Load 'df_Données_Reabos_odd' dataframe\n",
    "    df = file_to_dataframe(data_path + \"df_Donnees_Reabos_odd_new.csv\")\n",
    "    df['DATE_ACTE_REEL'] = pd.to_datetime(df['DATE_ACTE_REEL'])\n",
    "    df['MONTH'] = df['DATE_ACTE_REEL'].dt.month\n",
    "\n",
    "    # Perform statistical analysis on 'df_Données_Reabos_odd' dataframe\n",
    "    df2 = count_abo_conditions(df, ['ID_ABONNE', 'MONTH'], 'DATE_ACTE_REEL')\n",
    "\n",
    "    # Create a pivot table from 'df' dataframe we exchange the lines and columns\n",
    "    new_data_set = df2.pivot_table(index='ID_ABONNE', columns='MONTH', values='NB_DATE_ACTE_REEL')\n",
    "\n",
    "    # Reset index of the pivot table\n",
    "    new_data_set = new_data_set.reset_index()\n",
    "\n",
    "    # Replace NaN values with 0\n",
    "    new_data_set.fillna(0, inplace=True)\n",
    "\n",
    "    # Convert floating-point values to integers\n",
    "    new_data_set = new_data_set.astype(int)\n",
    "\n",
    "\n",
    "    # Save 'new_data_set' dataframe to a CSV file\n",
    "    save_to_csv_file(new_data_set, data_path_results + \"df_n_months_ODD.csv\")\n",
    "\n",
    "    return True\n",
    "        "
   ]
  },
  {
   "cell_type": "code",
   "execution_count": 105,
   "metadata": {},
   "outputs": [],
   "source": [
    "def create_new_data_set_n_fidelite(data_path, data_path_results):\n",
    "    \"\"\"\n",
    "    Creates a new dataset 'new_data_set' from 'df_Données_Reabos_odd' dataframe where the columns are the \n",
    "    TYPE_PROMON\n",
    "    \"\"\"\n",
    "\n",
    "    # Load 'df_Données_Reabos_odd' dataframe\n",
    "    df = file_to_dataframe(data_path + \"df_Donnees_Reabos_odd_new.csv\")\n",
    "    df['DATE_ACTE_REEL'] = pd.to_datetime(df['DATE_ACTE_REEL'])\n",
    "    df['MONTH'] = df['DATE_ACTE_REEL'].dt.month\n",
    "\n",
    "    # Perform statistical analysis on 'df_Données_Reabos_odd' dataframe\n",
    "    df2 = count_abo_conditions(df, ['ID_ABONNE', 'STATUT_FIN_M_MOINS_1'], 'DATE_ACTE_REEL')\n",
    "\n",
    "    # Create a pivot table from 'df' dataframe we exchange the lines and columns\n",
    "    new_data_set = df2.pivot_table(index='ID_ABONNE', columns='STATUT_FIN_M_MOINS_1', values='NB_DATE_ACTE_REEL')\n",
    "\n",
    "    # Reset index of the pivot table\n",
    "    new_data_set = new_data_set.reset_index()\n",
    "\n",
    "    # Replace NaN values with 0\n",
    "    new_data_set.fillna(0, inplace=True)\n",
    "\n",
    "    # Convert floating-point values to integers\n",
    "    new_data_set = new_data_set.astype(int)\n",
    "\n",
    "    # Save 'new_data_set' dataframe to a CSV file\n",
    "    save_to_csv_file(new_data_set, data_path_results + \"df_n_fidélité_ODD.csv\")\n",
    "\n",
    "    return True\n",
    "        "
   ]
  },
  {
   "cell_type": "code",
   "execution_count": 106,
   "metadata": {},
   "outputs": [
    {
     "data": {
      "text/plain": [
       "True"
      ]
     },
     "execution_count": 106,
     "metadata": {},
     "output_type": "execute_result"
    }
   ],
   "source": [
    "create_new_data_set_n_fidelite(path_antoine,path_antoine)"
   ]
  }
 ],
 "metadata": {
  "kernelspec": {
   "display_name": "Python 3",
   "language": "python",
   "name": "python3"
  },
  "language_info": {
   "codemirror_mode": {
    "name": "ipython",
    "version": 3
   },
   "file_extension": ".py",
   "mimetype": "text/x-python",
   "name": "python",
   "nbconvert_exporter": "python",
   "pygments_lexer": "ipython3",
   "version": "3.9.6"
  },
  "orig_nbformat": 4
 },
 "nbformat": 4,
 "nbformat_minor": 2
}
