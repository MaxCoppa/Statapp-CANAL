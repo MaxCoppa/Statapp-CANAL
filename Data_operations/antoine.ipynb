{
 "cells": [
  {
   "cell_type": "code",
   "execution_count": 1,
   "metadata": {},
   "outputs": [],
   "source": [
    "from Tool_Functions.cleaning_data import *\n",
    "from Tool_Functions.comportment_reabo import * \n",
    "from Tool_Functions.join_data import * "
   ]
  },
  {
   "cell_type": "code",
   "execution_count": 2,
   "metadata": {},
   "outputs": [],
   "source": [
    "path_antoine = \"/Users/antoine/Documents/ENSAE2A/Codeperso/everything/Statappperso/Ressources/\"\n",
    "path_results_antoine = \"/Users/antoine/Documents/ENSAE2A/Codeperso/everything/Statappperso/Ressources/Results/\""
   ]
  },
  {
   "attachments": {},
   "cell_type": "markdown",
   "metadata": {},
   "source": [
    "Nouveaux indicateurs : \n",
    "- Mois du réabonnement \n",
    "- Delai de réabonnement moyen pour cette promo comparé au délai de réabonnement moyen pour toutes les promos\n",
    "- Trouver aussi un moyen de quantifier le poids de l’abonnement par rapport aux habitudes de fidélité d’un client : s’il s’abonne alors qu’il s’abonne jamais, la promo aura un poids plus important"
   ]
  },
  {
   "cell_type": "code",
   "execution_count": 3,
   "metadata": {},
   "outputs": [],
   "source": [
    "df = file_to_dataframe(path_antoine + \"df_Donnees_Reabos.csv\")"
   ]
  },
  {
   "cell_type": "code",
   "execution_count": 10,
   "metadata": {},
   "outputs": [],
   "source": [
    "dfp = file_to_dataframe(path_antoine + \"df_Donnees_Promos.csv\")"
   ]
  },
  {
   "cell_type": "code",
   "execution_count": 4,
   "metadata": {},
   "outputs": [],
   "source": [
    "odd = file_to_dataframe(path_antoine + \"df_Donnees_Reabos_odd.csv\")"
   ]
  },
  {
   "cell_type": "code",
   "execution_count": 9,
   "metadata": {},
   "outputs": [],
   "source": [
    "oddp = file_to_dataframe(path_antoine + \"df_Donnees_Promos_odd.csv\")"
   ]
  },
  {
   "cell_type": "code",
   "execution_count": 17,
   "metadata": {},
   "outputs": [
    {
     "data": {
      "text/plain": [
       "(11415480, 5)"
      ]
     },
     "execution_count": 17,
     "metadata": {},
     "output_type": "execute_result"
    }
   ],
   "source": [
    "oddp.shape"
   ]
  },
  {
   "cell_type": "code",
   "execution_count": 21,
   "metadata": {},
   "outputs": [
    {
     "data": {
      "text/html": [
       "<div>\n",
       "<style scoped>\n",
       "    .dataframe tbody tr th:only-of-type {\n",
       "        vertical-align: middle;\n",
       "    }\n",
       "\n",
       "    .dataframe tbody tr th {\n",
       "        vertical-align: top;\n",
       "    }\n",
       "\n",
       "    .dataframe thead th {\n",
       "        text-align: right;\n",
       "    }\n",
       "</style>\n",
       "<table border=\"1\" class=\"dataframe\">\n",
       "  <thead>\n",
       "    <tr style=\"text-align: right;\">\n",
       "      <th></th>\n",
       "      <th>Unnamed: 0</th>\n",
       "      <th>ID_ABONNE</th>\n",
       "      <th>DATE_ACTE_REEL</th>\n",
       "      <th>DATE_DEMARRAGE_PROMO</th>\n",
       "      <th>CPROMO</th>\n",
       "    </tr>\n",
       "  </thead>\n",
       "  <tbody>\n",
       "    <tr>\n",
       "      <th>0</th>\n",
       "      <td>0</td>\n",
       "      <td>51478366401</td>\n",
       "      <td>2021-06-16</td>\n",
       "      <td>2021-06-16</td>\n",
       "      <td>SGEVP01</td>\n",
       "    </tr>\n",
       "    <tr>\n",
       "      <th>1</th>\n",
       "      <td>1</td>\n",
       "      <td>52006231501</td>\n",
       "      <td>2021-06-16</td>\n",
       "      <td>2021-06-16</td>\n",
       "      <td>SGEVP01</td>\n",
       "    </tr>\n",
       "    <tr>\n",
       "      <th>2</th>\n",
       "      <td>2</td>\n",
       "      <td>51349585101</td>\n",
       "      <td>2021-06-16</td>\n",
       "      <td>2021-06-16</td>\n",
       "      <td>SGEVP01</td>\n",
       "    </tr>\n",
       "    <tr>\n",
       "      <th>3</th>\n",
       "      <td>3</td>\n",
       "      <td>52108880501</td>\n",
       "      <td>2021-06-16</td>\n",
       "      <td>2021-06-16</td>\n",
       "      <td>SGEVP01</td>\n",
       "    </tr>\n",
       "    <tr>\n",
       "      <th>4</th>\n",
       "      <td>4</td>\n",
       "      <td>51947630401</td>\n",
       "      <td>2021-06-16</td>\n",
       "      <td>2021-06-16</td>\n",
       "      <td>SGEVP01</td>\n",
       "    </tr>\n",
       "    <tr>\n",
       "      <th>...</th>\n",
       "      <td>...</td>\n",
       "      <td>...</td>\n",
       "      <td>...</td>\n",
       "      <td>...</td>\n",
       "      <td>...</td>\n",
       "    </tr>\n",
       "    <tr>\n",
       "      <th>15733966</th>\n",
       "      <td>15733966</td>\n",
       "      <td>51974732901</td>\n",
       "      <td>2023-05-01</td>\n",
       "      <td>2023-05-01</td>\n",
       "      <td>SGEVP01</td>\n",
       "    </tr>\n",
       "    <tr>\n",
       "      <th>15733967</th>\n",
       "      <td>15733967</td>\n",
       "      <td>51923691301</td>\n",
       "      <td>2023-05-01</td>\n",
       "      <td>2023-05-01</td>\n",
       "      <td>SGEVP01</td>\n",
       "    </tr>\n",
       "    <tr>\n",
       "      <th>15733968</th>\n",
       "      <td>15733968</td>\n",
       "      <td>50993144501</td>\n",
       "      <td>2023-05-01</td>\n",
       "      <td>2023-05-01</td>\n",
       "      <td>SGEVP01</td>\n",
       "    </tr>\n",
       "    <tr>\n",
       "      <th>15733969</th>\n",
       "      <td>15733969</td>\n",
       "      <td>52103629101</td>\n",
       "      <td>2023-05-01</td>\n",
       "      <td>2023-05-01</td>\n",
       "      <td>SGEVP01</td>\n",
       "    </tr>\n",
       "    <tr>\n",
       "      <th>15733970</th>\n",
       "      <td>15733970</td>\n",
       "      <td>52280267101</td>\n",
       "      <td>2023-05-01</td>\n",
       "      <td>2023-05-01</td>\n",
       "      <td>SGEVP01</td>\n",
       "    </tr>\n",
       "  </tbody>\n",
       "</table>\n",
       "<p>15733971 rows × 5 columns</p>\n",
       "</div>"
      ],
      "text/plain": [
       "          Unnamed: 0    ID_ABONNE DATE_ACTE_REEL DATE_DEMARRAGE_PROMO   CPROMO\n",
       "0                  0  51478366401     2021-06-16           2021-06-16  SGEVP01\n",
       "1                  1  52006231501     2021-06-16           2021-06-16  SGEVP01\n",
       "2                  2  51349585101     2021-06-16           2021-06-16  SGEVP01\n",
       "3                  3  52108880501     2021-06-16           2021-06-16  SGEVP01\n",
       "4                  4  51947630401     2021-06-16           2021-06-16  SGEVP01\n",
       "...              ...          ...            ...                  ...      ...\n",
       "15733966    15733966  51974732901     2023-05-01           2023-05-01  SGEVP01\n",
       "15733967    15733967  51923691301     2023-05-01           2023-05-01  SGEVP01\n",
       "15733968    15733968  50993144501     2023-05-01           2023-05-01  SGEVP01\n",
       "15733969    15733969  52103629101     2023-05-01           2023-05-01  SGEVP01\n",
       "15733970    15733970  52280267101     2023-05-01           2023-05-01  SGEVP01\n",
       "\n",
       "[15733971 rows x 5 columns]"
      ]
     },
     "execution_count": 21,
     "metadata": {},
     "output_type": "execute_result"
    }
   ],
   "source": [
    "dfp"
   ]
  },
  {
   "attachments": {},
   "cell_type": "markdown",
   "metadata": {},
   "source": [
    "•⁠  ⁠transformer la fidélité en un score et essayer de le croiser avec les types de promo\n",
    "•⁠  ⁠⁠comparer les délais de réabonnements à ce qu’il se fait hors promotion \n",
    "•⁠  ⁠⁠on peut dans un premier temps se concentrer sur un seul type d’ODD (ex 15j TC)"
   ]
  },
  {
   "attachments": {},
   "cell_type": "markdown",
   "metadata": {},
   "source": [
    "créer la table sans ODD"
   ]
  },
  {
   "cell_type": "code",
   "execution_count": 13,
   "metadata": {},
   "outputs": [],
   "source": [
    "def create_df_Données_Promos_odd_all_outer(data_path, data_path_results):\n",
    "    \"\"\"\n",
    "    This function create df_Données_Promos_odd for the dataFrame with all years\n",
    "    \"\"\"\n",
    "    \n",
    "    df_Données_Promos = file_to_dataframe(data_path + \"df_Donnees_Promos.csv\",\",\")\n",
    "    df_odd = file_to_dataframe(data_path + \"odd.csv\", \",\")\n",
    "    df_Données_Promos_odd = join_dataFrames_outer(df_Données_Promos,df_odd[['CPROMO','TYPE_PROMON']] ,'CPROMO') #We create a new column 'TYPE_PROMON' on df_Données_Promos_202i\n",
    "    save_to_csv_file(df_Données_Promos_odd,data_path_results + \"df_Donnees_Promos_odd_outer.csv\") #we save it on your Mac\n",
    "    \n",
    "    return True"
   ]
  },
  {
   "cell_type": "code",
   "execution_count": 14,
   "metadata": {},
   "outputs": [
    {
     "data": {
      "text/plain": [
       "True"
      ]
     },
     "execution_count": 14,
     "metadata": {},
     "output_type": "execute_result"
    }
   ],
   "source": [
    "create_df_Données_Promos_odd_all_outer(path_antoine,path_antoine)"
   ]
  },
  {
   "cell_type": "code",
   "execution_count": 15,
   "metadata": {},
   "outputs": [
    {
     "name": "stderr",
     "output_type": "stream",
     "text": [
      "/Users/antoine/Documents/ENSAE2A/Codeperso/everything/Statappperso/Statapp-CANAL/Data_operations/Tool_Functions/join_data.py:14: DtypeWarning: Columns (4) have mixed types. Specify dtype option on import or set low_memory=False.\n",
      "  datas = pd.read_csv(filename,delimiter=st)\n"
     ]
    }
   ],
   "source": [
    "test =file_to_dataframe(path_antoine + 'df_Donnees_Promos_odd_outer.csv')"
   ]
  },
  {
   "cell_type": "code",
   "execution_count": 22,
   "metadata": {},
   "outputs": [],
   "source": [
    "test = test[test['TYPE_PROMON'].isna()]"
   ]
  },
  {
   "cell_type": "code",
   "execution_count": 23,
   "metadata": {},
   "outputs": [
    {
     "data": {
      "text/html": [
       "<div>\n",
       "<style scoped>\n",
       "    .dataframe tbody tr th:only-of-type {\n",
       "        vertical-align: middle;\n",
       "    }\n",
       "\n",
       "    .dataframe tbody tr th {\n",
       "        vertical-align: top;\n",
       "    }\n",
       "\n",
       "    .dataframe thead th {\n",
       "        text-align: right;\n",
       "    }\n",
       "</style>\n",
       "<table border=\"1\" class=\"dataframe\">\n",
       "  <thead>\n",
       "    <tr style=\"text-align: right;\">\n",
       "      <th></th>\n",
       "      <th>ID_ABONNE</th>\n",
       "      <th>DATE_ACTE_REEL</th>\n",
       "      <th>DATE_DEMARRAGE_PROMO</th>\n",
       "      <th>CPROMO</th>\n",
       "      <th>TYPE_PROMON</th>\n",
       "    </tr>\n",
       "  </thead>\n",
       "  <tbody>\n",
       "    <tr>\n",
       "      <th>8987632</th>\n",
       "      <td>50407663302</td>\n",
       "      <td>2021-12-15</td>\n",
       "      <td>2021-12-15</td>\n",
       "      <td>160412C6</td>\n",
       "      <td>NaN</td>\n",
       "    </tr>\n",
       "    <tr>\n",
       "      <th>8987633</th>\n",
       "      <td>50407500901</td>\n",
       "      <td>2021-02-15</td>\n",
       "      <td>2021-02-15</td>\n",
       "      <td>160412C6</td>\n",
       "      <td>NaN</td>\n",
       "    </tr>\n",
       "    <tr>\n",
       "      <th>8987634</th>\n",
       "      <td>50412532801</td>\n",
       "      <td>2021-05-06</td>\n",
       "      <td>2021-05-06</td>\n",
       "      <td>160412C6</td>\n",
       "      <td>NaN</td>\n",
       "    </tr>\n",
       "    <tr>\n",
       "      <th>8987635</th>\n",
       "      <td>51777223401</td>\n",
       "      <td>2021-12-07</td>\n",
       "      <td>2021-12-07</td>\n",
       "      <td>160412C6</td>\n",
       "      <td>NaN</td>\n",
       "    </tr>\n",
       "    <tr>\n",
       "      <th>8987636</th>\n",
       "      <td>50412618501</td>\n",
       "      <td>2021-10-28</td>\n",
       "      <td>2021-10-28</td>\n",
       "      <td>160412C6</td>\n",
       "      <td>NaN</td>\n",
       "    </tr>\n",
       "    <tr>\n",
       "      <th>...</th>\n",
       "      <td>...</td>\n",
       "      <td>...</td>\n",
       "      <td>...</td>\n",
       "      <td>...</td>\n",
       "      <td>...</td>\n",
       "    </tr>\n",
       "    <tr>\n",
       "      <th>15874296</th>\n",
       "      <td>50916707501</td>\n",
       "      <td>2023-10-12</td>\n",
       "      <td>2023-10-12</td>\n",
       "      <td>SG67JTC</td>\n",
       "      <td>NaN</td>\n",
       "    </tr>\n",
       "    <tr>\n",
       "      <th>15874297</th>\n",
       "      <td>50927268401</td>\n",
       "      <td>2023-02-07</td>\n",
       "      <td>2023-02-08</td>\n",
       "      <td>230201RDC7</td>\n",
       "      <td>NaN</td>\n",
       "    </tr>\n",
       "    <tr>\n",
       "      <th>15874298</th>\n",
       "      <td>50818297702</td>\n",
       "      <td>2023-02-07</td>\n",
       "      <td>2023-02-08</td>\n",
       "      <td>230201RDC7</td>\n",
       "      <td>NaN</td>\n",
       "    </tr>\n",
       "    <tr>\n",
       "      <th>15874299</th>\n",
       "      <td>50418092001</td>\n",
       "      <td>2023-03-01</td>\n",
       "      <td>2023-05-01</td>\n",
       "      <td>ODDUP1M1</td>\n",
       "      <td>NaN</td>\n",
       "    </tr>\n",
       "    <tr>\n",
       "      <th>15874300</th>\n",
       "      <td>52901619701</td>\n",
       "      <td>2023-01-12</td>\n",
       "      <td>2023-01-12</td>\n",
       "      <td>230110SEN3</td>\n",
       "      <td>NaN</td>\n",
       "    </tr>\n",
       "  </tbody>\n",
       "</table>\n",
       "<p>842475 rows × 5 columns</p>\n",
       "</div>"
      ],
      "text/plain": [
       "            ID_ABONNE DATE_ACTE_REEL DATE_DEMARRAGE_PROMO      CPROMO  \\\n",
       "8987632   50407663302     2021-12-15           2021-12-15    160412C6   \n",
       "8987633   50407500901     2021-02-15           2021-02-15    160412C6   \n",
       "8987634   50412532801     2021-05-06           2021-05-06    160412C6   \n",
       "8987635   51777223401     2021-12-07           2021-12-07    160412C6   \n",
       "8987636   50412618501     2021-10-28           2021-10-28    160412C6   \n",
       "...               ...            ...                  ...         ...   \n",
       "15874296  50916707501     2023-10-12           2023-10-12     SG67JTC   \n",
       "15874297  50927268401     2023-02-07           2023-02-08  230201RDC7   \n",
       "15874298  50818297702     2023-02-07           2023-02-08  230201RDC7   \n",
       "15874299  50418092001     2023-03-01           2023-05-01    ODDUP1M1   \n",
       "15874300  52901619701     2023-01-12           2023-01-12  230110SEN3   \n",
       "\n",
       "         TYPE_PROMON  \n",
       "8987632          NaN  \n",
       "8987633          NaN  \n",
       "8987634          NaN  \n",
       "8987635          NaN  \n",
       "8987636          NaN  \n",
       "...              ...  \n",
       "15874296         NaN  \n",
       "15874297         NaN  \n",
       "15874298         NaN  \n",
       "15874299         NaN  \n",
       "15874300         NaN  \n",
       "\n",
       "[842475 rows x 5 columns]"
      ]
     },
     "execution_count": 23,
     "metadata": {},
     "output_type": "execute_result"
    }
   ],
   "source": [
    "test"
   ]
  }
 ],
 "metadata": {
  "kernelspec": {
   "display_name": "Python 3",
   "language": "python",
   "name": "python3"
  },
  "language_info": {
   "codemirror_mode": {
    "name": "ipython",
    "version": 3
   },
   "file_extension": ".py",
   "mimetype": "text/x-python",
   "name": "python",
   "nbconvert_exporter": "python",
   "pygments_lexer": "ipython3",
   "version": "3.9.6"
  },
  "orig_nbformat": 4
 },
 "nbformat": 4,
 "nbformat_minor": 2
}
