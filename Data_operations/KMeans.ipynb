{
 "cells": [
  {
   "cell_type": "code",
   "execution_count": 24,
   "metadata": {},
   "outputs": [],
   "source": [
    "path_antoine = \"/Users/antoine/Documents/ENSAE2A/Codeperso/everything/Statappperso/Ressources/\"\n",
    "path_results_antoine = \"/Users/antoine/Documents/ENSAE2A/Codeperso/everything/Statappperso/Ressources/Results/\""
   ]
  },
  {
   "cell_type": "code",
   "execution_count": 25,
   "metadata": {},
   "outputs": [],
   "source": [
    "import numpy as np\n",
    "import matplotlib.pyplot as plt\n",
    "import sklearn"
   ]
  },
  {
   "cell_type": "code",
   "execution_count": 26,
   "metadata": {},
   "outputs": [],
   "source": [
    "from Tool_Functions.cleaning_data import *\n",
    "from Tool_Functions.join_data import *\n",
    "from Tool_Functions.test_comportment_reabo import *\n",
    "from Tool_Functions.visual import *\n",
    "from Tool_Functions.comportment_reabo import *"
   ]
  },
  {
   "cell_type": "code",
   "execution_count": 27,
   "metadata": {},
   "outputs": [],
   "source": [
    "new_df = file_to_dataframe(path_antoine + 'new_data_set.csv')"
   ]
  },
  {
   "cell_type": "code",
   "execution_count": 28,
   "metadata": {},
   "outputs": [
    {
     "data": {
      "text/html": [
       "<div>\n",
       "<style scoped>\n",
       "    .dataframe tbody tr th:only-of-type {\n",
       "        vertical-align: middle;\n",
       "    }\n",
       "\n",
       "    .dataframe tbody tr th {\n",
       "        vertical-align: top;\n",
       "    }\n",
       "\n",
       "    .dataframe thead th {\n",
       "        text-align: right;\n",
       "    }\n",
       "</style>\n",
       "<table border=\"1\" class=\"dataframe\">\n",
       "  <thead>\n",
       "    <tr style=\"text-align: right;\">\n",
       "      <th></th>\n",
       "      <th>ID_ABONNE</th>\n",
       "      <th>Autres</th>\n",
       "      <th>ODD 15 jours EV+</th>\n",
       "      <th>ODD 15 jours TC</th>\n",
       "      <th>ODD 21 jours TC</th>\n",
       "      <th>ODD 30 jours EV+</th>\n",
       "      <th>ODD 30 jours TC</th>\n",
       "      <th>ODD 7 jours autre que SG</th>\n",
       "      <th>Semaine genéreuse</th>\n",
       "    </tr>\n",
       "  </thead>\n",
       "  <tbody>\n",
       "    <tr>\n",
       "      <th>0</th>\n",
       "      <td>50402221602</td>\n",
       "      <td>0</td>\n",
       "      <td>0</td>\n",
       "      <td>1</td>\n",
       "      <td>0</td>\n",
       "      <td>0</td>\n",
       "      <td>2</td>\n",
       "      <td>0</td>\n",
       "      <td>0</td>\n",
       "    </tr>\n",
       "    <tr>\n",
       "      <th>1</th>\n",
       "      <td>50402223202</td>\n",
       "      <td>0</td>\n",
       "      <td>0</td>\n",
       "      <td>8</td>\n",
       "      <td>0</td>\n",
       "      <td>0</td>\n",
       "      <td>4</td>\n",
       "      <td>0</td>\n",
       "      <td>17</td>\n",
       "    </tr>\n",
       "    <tr>\n",
       "      <th>2</th>\n",
       "      <td>50402224003</td>\n",
       "      <td>0</td>\n",
       "      <td>0</td>\n",
       "      <td>3</td>\n",
       "      <td>0</td>\n",
       "      <td>0</td>\n",
       "      <td>0</td>\n",
       "      <td>0</td>\n",
       "      <td>4</td>\n",
       "    </tr>\n",
       "    <tr>\n",
       "      <th>3</th>\n",
       "      <td>50402230202</td>\n",
       "      <td>0</td>\n",
       "      <td>0</td>\n",
       "      <td>9</td>\n",
       "      <td>0</td>\n",
       "      <td>0</td>\n",
       "      <td>3</td>\n",
       "      <td>0</td>\n",
       "      <td>6</td>\n",
       "    </tr>\n",
       "    <tr>\n",
       "      <th>4</th>\n",
       "      <td>50402230203</td>\n",
       "      <td>0</td>\n",
       "      <td>0</td>\n",
       "      <td>11</td>\n",
       "      <td>1</td>\n",
       "      <td>0</td>\n",
       "      <td>3</td>\n",
       "      <td>0</td>\n",
       "      <td>5</td>\n",
       "    </tr>\n",
       "    <tr>\n",
       "      <th>...</th>\n",
       "      <td>...</td>\n",
       "      <td>...</td>\n",
       "      <td>...</td>\n",
       "      <td>...</td>\n",
       "      <td>...</td>\n",
       "      <td>...</td>\n",
       "      <td>...</td>\n",
       "      <td>...</td>\n",
       "      <td>...</td>\n",
       "    </tr>\n",
       "    <tr>\n",
       "      <th>956104</th>\n",
       "      <td>53231468401</td>\n",
       "      <td>0</td>\n",
       "      <td>0</td>\n",
       "      <td>1</td>\n",
       "      <td>0</td>\n",
       "      <td>0</td>\n",
       "      <td>0</td>\n",
       "      <td>0</td>\n",
       "      <td>1</td>\n",
       "    </tr>\n",
       "    <tr>\n",
       "      <th>956105</th>\n",
       "      <td>53231471201</td>\n",
       "      <td>0</td>\n",
       "      <td>1</td>\n",
       "      <td>0</td>\n",
       "      <td>0</td>\n",
       "      <td>0</td>\n",
       "      <td>0</td>\n",
       "      <td>0</td>\n",
       "      <td>1</td>\n",
       "    </tr>\n",
       "    <tr>\n",
       "      <th>956106</th>\n",
       "      <td>53231472801</td>\n",
       "      <td>0</td>\n",
       "      <td>0</td>\n",
       "      <td>0</td>\n",
       "      <td>0</td>\n",
       "      <td>0</td>\n",
       "      <td>0</td>\n",
       "      <td>0</td>\n",
       "      <td>1</td>\n",
       "    </tr>\n",
       "    <tr>\n",
       "      <th>956107</th>\n",
       "      <td>53231474901</td>\n",
       "      <td>0</td>\n",
       "      <td>1</td>\n",
       "      <td>0</td>\n",
       "      <td>0</td>\n",
       "      <td>0</td>\n",
       "      <td>0</td>\n",
       "      <td>0</td>\n",
       "      <td>1</td>\n",
       "    </tr>\n",
       "    <tr>\n",
       "      <th>956108</th>\n",
       "      <td>53231477901</td>\n",
       "      <td>0</td>\n",
       "      <td>1</td>\n",
       "      <td>0</td>\n",
       "      <td>0</td>\n",
       "      <td>0</td>\n",
       "      <td>0</td>\n",
       "      <td>0</td>\n",
       "      <td>1</td>\n",
       "    </tr>\n",
       "  </tbody>\n",
       "</table>\n",
       "<p>956109 rows × 9 columns</p>\n",
       "</div>"
      ],
      "text/plain": [
       "          ID_ABONNE  Autres  ODD 15 jours EV+  ODD 15 jours TC  \\\n",
       "0       50402221602       0                 0                1   \n",
       "1       50402223202       0                 0                8   \n",
       "2       50402224003       0                 0                3   \n",
       "3       50402230202       0                 0                9   \n",
       "4       50402230203       0                 0               11   \n",
       "...             ...     ...               ...              ...   \n",
       "956104  53231468401       0                 0                1   \n",
       "956105  53231471201       0                 1                0   \n",
       "956106  53231472801       0                 0                0   \n",
       "956107  53231474901       0                 1                0   \n",
       "956108  53231477901       0                 1                0   \n",
       "\n",
       "        ODD 21 jours TC  ODD 30 jours EV+  ODD 30 jours TC  \\\n",
       "0                     0                 0                2   \n",
       "1                     0                 0                4   \n",
       "2                     0                 0                0   \n",
       "3                     0                 0                3   \n",
       "4                     1                 0                3   \n",
       "...                 ...               ...              ...   \n",
       "956104                0                 0                0   \n",
       "956105                0                 0                0   \n",
       "956106                0                 0                0   \n",
       "956107                0                 0                0   \n",
       "956108                0                 0                0   \n",
       "\n",
       "        ODD 7 jours autre que SG  Semaine genéreuse  \n",
       "0                              0                  0  \n",
       "1                              0                 17  \n",
       "2                              0                  4  \n",
       "3                              0                  6  \n",
       "4                              0                  5  \n",
       "...                          ...                ...  \n",
       "956104                         0                  1  \n",
       "956105                         0                  1  \n",
       "956106                         0                  1  \n",
       "956107                         0                  1  \n",
       "956108                         0                  1  \n",
       "\n",
       "[956109 rows x 9 columns]"
      ]
     },
     "execution_count": 28,
     "metadata": {},
     "output_type": "execute_result"
    }
   ],
   "source": [
    "new_df"
   ]
  },
  {
   "cell_type": "code",
   "execution_count": 29,
   "metadata": {},
   "outputs": [],
   "source": [
    "from sklearn.cluster import KMeans\n",
    "from sklearn.preprocessing import StandardScaler\n",
    "import pandas as pd"
   ]
  },
  {
   "cell_type": "code",
   "execution_count": 30,
   "metadata": {},
   "outputs": [],
   "source": [
    "df_original = pd.DataFrame(new_df).set_index('ID_ABONNE')"
   ]
  },
  {
   "cell_type": "code",
   "execution_count": 31,
   "metadata": {},
   "outputs": [
    {
     "data": {
      "text/plain": [
       "Index(['Autres', 'ODD 15 jours EV+', 'ODD 15 jours TC', 'ODD 21 jours TC',\n",
       "       'ODD 30 jours EV+', 'ODD 30 jours TC', 'ODD 7 jours autre que SG',\n",
       "       'Semaine genéreuse'],\n",
       "      dtype='object')"
      ]
     },
     "execution_count": 31,
     "metadata": {},
     "output_type": "execute_result"
    }
   ],
   "source": [
    "columns_names = df_original.columns\n",
    "columns_names"
   ]
  },
  {
   "cell_type": "code",
   "execution_count": 36,
   "metadata": {},
   "outputs": [],
   "source": [
    "df = pd.DataFrame(new_df).set_index('ID_ABONNE')"
   ]
  },
  {
   "cell_type": "code",
   "execution_count": 37,
   "metadata": {},
   "outputs": [],
   "source": [
    "# Normalisation des données\n",
    "scaler = StandardScaler()\n",
    "df_scaled = scaler.fit_transform(df)"
   ]
  },
  {
   "cell_type": "code",
   "execution_count": 38,
   "metadata": {},
   "outputs": [
    {
     "data": {
      "text/plain": [
       "array([[-0.24991914, -0.517815  , -0.98722439, ...,  1.95443712,\n",
       "        -0.28345189, -0.83547764],\n",
       "       [-0.24991914, -0.517815  ,  1.02359804, ...,  4.33412836,\n",
       "        -0.28345189,  2.2940435 ],\n",
       "       [-0.24991914, -0.517815  , -0.41270369, ..., -0.42525411,\n",
       "        -0.28345189, -0.09911973],\n",
       "       ...,\n",
       "       [-0.24991914, -0.517815  , -1.27448473, ..., -0.42525411,\n",
       "        -0.28345189, -0.65138816],\n",
       "       [-0.24991914,  1.54638304, -1.27448473, ..., -0.42525411,\n",
       "        -0.28345189, -0.65138816],\n",
       "       [-0.24991914,  1.54638304, -1.27448473, ..., -0.42525411,\n",
       "        -0.28345189, -0.65138816]])"
      ]
     },
     "execution_count": 38,
     "metadata": {},
     "output_type": "execute_result"
    }
   ],
   "source": [
    "df_scaled"
   ]
  },
  {
   "cell_type": "code",
   "execution_count": 39,
   "metadata": {},
   "outputs": [
    {
     "name": "stderr",
     "output_type": "stream",
     "text": [
      "/Users/antoine/Library/Python/3.9/lib/python/site-packages/sklearn/cluster/_kmeans.py:1416: FutureWarning: The default value of `n_init` will change from 10 to 'auto' in 1.4. Set the value of `n_init` explicitly to suppress the warning\n",
      "  super()._check_params_vs_input(X, default_n_init=10)\n"
     ]
    }
   ],
   "source": [
    "kmeans = KMeans(n_clusters=3, random_state=42)\n",
    "kmeans.fit(df_scaled)\n",
    "df['Cluster'] = kmeans.labels_"
   ]
  },
  {
   "attachments": {},
   "cell_type": "markdown",
   "metadata": {},
   "source": [
    "Hyperparamètres : \n",
    "init : Méthode d'initialisation des centroïdes. Les options courantes sont 'k-means++' (défaut), 'random', un tableau donné de formes (n_clusters, n_features) ou une méthode d'initialisation personnalisée. 'k-means++' choisit les centroïdes initiaux pour le clustering k-means d'une manière qui accélère la convergence.\n",
    "\n",
    "n_init : Nombre de fois où l'algorithme k-means sera exécuté avec différentes graines de centroïde. Les résultats finaux seront la meilleure sortie de n_init exécutions consécutives en termes d'inertie.\n",
    "\n",
    "max_iter : Le nombre maximal d'itérations de l'algorithme k-means pour une seule exécution.\n",
    "tol : Tolérance pour déclarer la convergence. Si les changements dans les centroïdes sont inférieurs à cette tolérance, l'algorithme peut arrêter plus tôt.\n",
    "\n",
    "precompute_distances : Détermine si les distances entre les points doivent être précalculées ou calculées à la volée. Cela peut accélérer les choses mais peut aussi consommer beaucoup de mémoire pour les grands ensembles de données.\n",
    "verbose : Mode verbeux.\n",
    "\n",
    "random_state : Graine utilisée par le générateur de nombres aléatoires pour l'initialisation du centroïde ou si init est une graine pour l'algorithme k-means++.\n",
    "\n",
    "copy_x : Si True (par défaut), les données d'entrée sont copiées, sinon elles peuvent être écrasées pendant le clustering.\n",
    "\n",
    "algorithm : Choix de l'algorithme pour calculer les k-moyens parmi 'auto', 'full' ou 'elkan'. Le choix classique 'full' est l'algorithme EM pour le k-means. 'elkan' est une variante plus efficace qui est plus rapide sur les ensembles de données avec de nombreux clusters mais qui ne fonctionne pas avec des métriques autres que la distance euclidienne."
   ]
  },
  {
   "cell_type": "code",
   "execution_count": 40,
   "metadata": {},
   "outputs": [],
   "source": [
    "compte = df.groupby('Cluster').count()"
   ]
  },
  {
   "cell_type": "code",
   "execution_count": 41,
   "metadata": {},
   "outputs": [
    {
     "data": {
      "text/html": [
       "<div>\n",
       "<style scoped>\n",
       "    .dataframe tbody tr th:only-of-type {\n",
       "        vertical-align: middle;\n",
       "    }\n",
       "\n",
       "    .dataframe tbody tr th {\n",
       "        vertical-align: top;\n",
       "    }\n",
       "\n",
       "    .dataframe thead th {\n",
       "        text-align: right;\n",
       "    }\n",
       "</style>\n",
       "<table border=\"1\" class=\"dataframe\">\n",
       "  <thead>\n",
       "    <tr style=\"text-align: right;\">\n",
       "      <th></th>\n",
       "      <th>Autres</th>\n",
       "      <th>ODD 15 jours EV+</th>\n",
       "      <th>ODD 15 jours TC</th>\n",
       "      <th>ODD 21 jours TC</th>\n",
       "      <th>ODD 30 jours EV+</th>\n",
       "      <th>ODD 30 jours TC</th>\n",
       "      <th>ODD 7 jours autre que SG</th>\n",
       "      <th>Semaine genéreuse</th>\n",
       "    </tr>\n",
       "    <tr>\n",
       "      <th>Cluster</th>\n",
       "      <th></th>\n",
       "      <th></th>\n",
       "      <th></th>\n",
       "      <th></th>\n",
       "      <th></th>\n",
       "      <th></th>\n",
       "      <th></th>\n",
       "      <th></th>\n",
       "    </tr>\n",
       "  </thead>\n",
       "  <tbody>\n",
       "    <tr>\n",
       "      <th>0</th>\n",
       "      <td>308602</td>\n",
       "      <td>308602</td>\n",
       "      <td>308602</td>\n",
       "      <td>308602</td>\n",
       "      <td>308602</td>\n",
       "      <td>308602</td>\n",
       "      <td>308602</td>\n",
       "      <td>308602</td>\n",
       "    </tr>\n",
       "    <tr>\n",
       "      <th>1</th>\n",
       "      <td>576231</td>\n",
       "      <td>576231</td>\n",
       "      <td>576231</td>\n",
       "      <td>576231</td>\n",
       "      <td>576231</td>\n",
       "      <td>576231</td>\n",
       "      <td>576231</td>\n",
       "      <td>576231</td>\n",
       "    </tr>\n",
       "    <tr>\n",
       "      <th>2</th>\n",
       "      <td>71276</td>\n",
       "      <td>71276</td>\n",
       "      <td>71276</td>\n",
       "      <td>71276</td>\n",
       "      <td>71276</td>\n",
       "      <td>71276</td>\n",
       "      <td>71276</td>\n",
       "      <td>71276</td>\n",
       "    </tr>\n",
       "  </tbody>\n",
       "</table>\n",
       "</div>"
      ],
      "text/plain": [
       "         Autres  ODD 15 jours EV+  ODD 15 jours TC  ODD 21 jours TC  \\\n",
       "Cluster                                                               \n",
       "0        308602            308602           308602           308602   \n",
       "1        576231            576231           576231           576231   \n",
       "2         71276             71276            71276            71276   \n",
       "\n",
       "         ODD 30 jours EV+  ODD 30 jours TC  ODD 7 jours autre que SG  \\\n",
       "Cluster                                                                \n",
       "0                  308602           308602                    308602   \n",
       "1                  576231           576231                    576231   \n",
       "2                   71276            71276                     71276   \n",
       "\n",
       "         Semaine genéreuse  \n",
       "Cluster                     \n",
       "0                   308602  \n",
       "1                   576231  \n",
       "2                    71276  "
      ]
     },
     "execution_count": 41,
     "metadata": {},
     "output_type": "execute_result"
    }
   ],
   "source": [
    "compte"
   ]
  },
  {
   "cell_type": "code",
   "execution_count": 42,
   "metadata": {},
   "outputs": [
    {
     "name": "stdout",
     "output_type": "stream",
     "text": [
      "     Autres  ODD 15 jours EV+  ODD 15 jours TC  ODD 21 jours TC  \\\n",
      "0  0.307610          0.061074         1.126297        -0.435975   \n",
      "1 -0.154595          0.015486        -0.543121         0.252738   \n",
      "2 -0.082091         -0.389635        -0.485873        -0.155534   \n",
      "\n",
      "   ODD 30 jours EV+  ODD 30 jours TC  ODD 7 jours autre que SG  \\\n",
      "0          0.803886         0.437578                 -0.282348   \n",
      "1         -0.404702        -0.206991                 -0.283452   \n",
      "2         -0.208923        -0.221243                  3.514044   \n",
      "\n",
      "   Semaine genéreuse  \n",
      "0           1.048508  \n",
      "1          -0.494218  \n",
      "2          -0.544410  \n"
     ]
    }
   ],
   "source": [
    "centroids = kmeans.cluster_centers_\n",
    "\n",
    "# Convertir les centroïdes en DataFrame pour une meilleure lisibilité\n",
    "centroids_df = pd.DataFrame(centroids, columns=columns_names)\n",
    "\n",
    "# Afficher les centroïdes\n",
    "print(centroids_df)\n"
   ]
  },
  {
   "cell_type": "code",
   "execution_count": 43,
   "metadata": {},
   "outputs": [
    {
     "data": {
      "text/plain": [
       "True"
      ]
     },
     "execution_count": 43,
     "metadata": {},
     "output_type": "execute_result"
    }
   ],
   "source": [
    "save_to_csv_file(centroids_df, path_antoine + 'centres_clusters.csv')"
   ]
  },
  {
   "cell_type": "code",
   "execution_count": 44,
   "metadata": {},
   "outputs": [],
   "source": [
    "df_scaled_df = pd.DataFrame(df_scaled, columns=columns_names)"
   ]
  },
  {
   "cell_type": "code",
   "execution_count": 45,
   "metadata": {},
   "outputs": [],
   "source": [
    "df_scaled_df['Cluster'] = kmeans.labels_"
   ]
  },
  {
   "cell_type": "code",
   "execution_count": 46,
   "metadata": {},
   "outputs": [
    {
     "name": "stdout",
     "output_type": "stream",
     "text": [
      "Cluster 0 characteristics:\n",
      "              Autres  ODD 15 jours EV+  ODD 15 jours TC  ODD 21 jours TC  \\\n",
      "count  308602.000000     308602.000000    308602.000000    308602.000000   \n",
      "mean        0.308229          0.061040         1.126249        -0.436138   \n",
      "std         1.441627          1.079247         0.667002         0.488874   \n",
      "min        -0.249919         -0.517815        -1.274485        -0.599698   \n",
      "25%        -0.249919         -0.517815         0.736338        -0.599698   \n",
      "50%        -0.249919         -0.517815         1.023598        -0.599698   \n",
      "75%        -0.249919         -0.517815         1.598119        -0.599698   \n",
      "max        16.232513         11.867373        19.695521         5.027679   \n",
      "\n",
      "       ODD 30 jours EV+  ODD 30 jours TC  ODD 7 jours autre que SG  \\\n",
      "count     308602.000000    308602.000000             308602.000000   \n",
      "mean           0.803770         0.437633                 -0.282348   \n",
      "std            1.163844         1.467611                  0.064621   \n",
      "min           -0.606764        -0.425254                 -0.283452   \n",
      "25%           -0.606764        -0.425254                 -0.283452   \n",
      "50%            1.181616        -0.425254                 -0.283452   \n",
      "75%            1.181616         0.764592                 -0.283452   \n",
      "max           11.911898        12.663048                  3.501088   \n",
      "\n",
      "       Semaine genéreuse   Cluster  \n",
      "count      308602.000000  308602.0  \n",
      "mean            1.048454       0.0  \n",
      "std             1.050756       0.0  \n",
      "min            -0.835478       0.0  \n",
      "25%             0.269059       0.0  \n",
      "50%             1.005417       0.0  \n",
      "75%             1.925865       0.0  \n",
      "max             4.503117       0.0  \n",
      "Cluster 1 characteristics:\n",
      "              Autres  ODD 15 jours EV+  ODD 15 jours TC  ODD 21 jours TC  \\\n",
      "count  576231.000000     576231.000000    576231.000000    576231.000000   \n",
      "mean       -0.154919          0.015505        -0.543066         0.252813   \n",
      "std         0.621456          0.984827         0.590556         1.128147   \n",
      "min        -0.249919         -0.517815        -1.274485        -0.599698   \n",
      "25%        -0.249919         -0.517815        -0.987224        -0.599698   \n",
      "50%        -0.249919         -0.517815        -0.699964        -0.599698   \n",
      "75%        -0.249919         -0.517815        -0.125443         0.807147   \n",
      "max        12.111905         18.059967         2.747160        16.282433   \n",
      "\n",
      "       ODD 30 jours EV+  ODD 30 jours TC  ODD 7 jours autre que SG  \\\n",
      "count     576231.000000    576231.000000              5.762310e+05   \n",
      "mean          -0.404619        -0.207009             -2.834519e-01   \n",
      "std            0.581293         0.561643              5.551120e-17   \n",
      "min           -0.606764        -0.425254             -2.834519e-01   \n",
      "25%           -0.606764        -0.425254             -2.834519e-01   \n",
      "50%           -0.606764        -0.425254             -2.834519e-01   \n",
      "75%           -0.606764        -0.425254             -2.834519e-01   \n",
      "max            4.758377         6.713820             -2.834519e-01   \n",
      "\n",
      "       Semaine genéreuse   Cluster  \n",
      "count      576231.000000  576231.0  \n",
      "mean           -0.494162       1.0  \n",
      "std             0.412934       0.0  \n",
      "min            -0.835478       1.0  \n",
      "25%            -0.835478       1.0  \n",
      "50%            -0.651388       1.0  \n",
      "75%            -0.283209       1.0  \n",
      "max             2.662222       1.0  \n",
      "Cluster 2 characteristics:\n",
      "             Autres  ODD 15 jours EV+  ODD 15 jours TC  ODD 21 jours TC  \\\n",
      "count  71276.000000      71276.000000     71276.000000     71276.000000   \n",
      "mean      -0.082091         -0.389635        -0.485873        -0.155534   \n",
      "std        0.825532          0.600160         0.745760         0.851858   \n",
      "min       -0.249919         -0.517815        -1.274485        -0.599698   \n",
      "25%       -0.249919         -0.517815        -0.987224        -0.599698   \n",
      "50%       -0.249919         -0.517815        -0.699964        -0.599698   \n",
      "75%       -0.249919         -0.517815         0.161817         0.807147   \n",
      "max        7.991297          9.803175         2.459900         6.434523   \n",
      "\n",
      "       ODD 30 jours EV+  ODD 30 jours TC  ODD 7 jours autre que SG  \\\n",
      "count      71276.000000     71276.000000              71276.000000   \n",
      "mean          -0.208923        -0.221243                  3.514044   \n",
      "std            0.808318         0.560167                  0.229963   \n",
      "min           -0.606764        -0.425254                  3.501088   \n",
      "25%           -0.606764        -0.425254                  3.501088   \n",
      "50%           -0.606764        -0.425254                  3.501088   \n",
      "75%           -0.606764        -0.425254                  3.501088   \n",
      "max            6.546757         7.903665                 11.070168   \n",
      "\n",
      "       Semaine genéreuse  Cluster  \n",
      "count       71276.000000  71276.0  \n",
      "mean           -0.544410      2.0  \n",
      "std             0.474678      0.0  \n",
      "min            -0.835478      2.0  \n",
      "25%            -0.835478      2.0  \n",
      "50%            -0.835478      2.0  \n",
      "75%            -0.467299      2.0  \n",
      "max             3.214491      2.0  \n"
     ]
    }
   ],
   "source": [
    "k = 3\n",
    "for i in range(k):\n",
    "    print(f\"Cluster {i} characteristics:\")\n",
    "    cluster_data = df_scaled_df[df_scaled_df['Cluster'] == i]\n",
    "    # Vous pouvez ici calculer des statistiques ou des graphiques pour comprendre chaque cluster\n",
    "    print(cluster_data.describe())  # Résumé statistique\n",
    "    save_to_csv_file(cluster_data.describe(), path_antoine + 'cluster_data.csv')"
   ]
  }
 ],
 "metadata": {
  "kernelspec": {
   "display_name": "Python 3",
   "language": "python",
   "name": "python3"
  },
  "language_info": {
   "codemirror_mode": {
    "name": "ipython",
    "version": 3
   },
   "file_extension": ".py",
   "mimetype": "text/x-python",
   "name": "python",
   "nbconvert_exporter": "python",
   "pygments_lexer": "ipython3",
   "version": "3.9.6"
  },
  "orig_nbformat": 4
 },
 "nbformat": 4,
 "nbformat_minor": 2
}
